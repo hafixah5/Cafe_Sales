{
 "cells": [
  {
   "cell_type": "code",
   "execution_count": 1,
   "id": "33af2ad6",
   "metadata": {},
   "outputs": [],
   "source": [
    "import os\n",
    "import numpy as np\n",
    "import pandas as pd\n",
    "import seaborn as sns\n",
    "from datetime import datetime\n",
    "import matplotlib.pyplot as plt"
   ]
  },
  {
   "cell_type": "code",
   "execution_count": 2,
   "id": "8ea3b483",
   "metadata": {},
   "outputs": [],
   "source": [
    "CSV_PATH = os.path.join(os.getcwd(),'dirty_cafe_sales.csv')\n",
    "df = pd.read_csv(CSV_PATH)"
   ]
  },
  {
   "cell_type": "code",
   "execution_count": 3,
   "id": "8e6cba39",
   "metadata": {},
   "outputs": [
    {
     "data": {
      "text/html": [
       "<div>\n",
       "<style scoped>\n",
       "    .dataframe tbody tr th:only-of-type {\n",
       "        vertical-align: middle;\n",
       "    }\n",
       "\n",
       "    .dataframe tbody tr th {\n",
       "        vertical-align: top;\n",
       "    }\n",
       "\n",
       "    .dataframe thead th {\n",
       "        text-align: right;\n",
       "    }\n",
       "</style>\n",
       "<table border=\"1\" class=\"dataframe\">\n",
       "  <thead>\n",
       "    <tr style=\"text-align: right;\">\n",
       "      <th></th>\n",
       "      <th>Transaction ID</th>\n",
       "      <th>Item</th>\n",
       "      <th>Quantity</th>\n",
       "      <th>Price Per Unit</th>\n",
       "      <th>Total Spent</th>\n",
       "      <th>Payment Method</th>\n",
       "      <th>Location</th>\n",
       "      <th>Transaction Date</th>\n",
       "    </tr>\n",
       "  </thead>\n",
       "  <tbody>\n",
       "    <tr>\n",
       "      <th>0</th>\n",
       "      <td>TXN_1961373</td>\n",
       "      <td>Coffee</td>\n",
       "      <td>2</td>\n",
       "      <td>2.0</td>\n",
       "      <td>4.0</td>\n",
       "      <td>Credit Card</td>\n",
       "      <td>Takeaway</td>\n",
       "      <td>2023-09-08</td>\n",
       "    </tr>\n",
       "    <tr>\n",
       "      <th>1</th>\n",
       "      <td>TXN_4977031</td>\n",
       "      <td>Cake</td>\n",
       "      <td>4</td>\n",
       "      <td>3.0</td>\n",
       "      <td>12.0</td>\n",
       "      <td>Cash</td>\n",
       "      <td>In-store</td>\n",
       "      <td>2023-05-16</td>\n",
       "    </tr>\n",
       "    <tr>\n",
       "      <th>2</th>\n",
       "      <td>TXN_4271903</td>\n",
       "      <td>Cookie</td>\n",
       "      <td>4</td>\n",
       "      <td>1.0</td>\n",
       "      <td>ERROR</td>\n",
       "      <td>Credit Card</td>\n",
       "      <td>In-store</td>\n",
       "      <td>2023-07-19</td>\n",
       "    </tr>\n",
       "    <tr>\n",
       "      <th>3</th>\n",
       "      <td>TXN_7034554</td>\n",
       "      <td>Salad</td>\n",
       "      <td>2</td>\n",
       "      <td>5.0</td>\n",
       "      <td>10.0</td>\n",
       "      <td>UNKNOWN</td>\n",
       "      <td>UNKNOWN</td>\n",
       "      <td>2023-04-27</td>\n",
       "    </tr>\n",
       "    <tr>\n",
       "      <th>4</th>\n",
       "      <td>TXN_3160411</td>\n",
       "      <td>Coffee</td>\n",
       "      <td>2</td>\n",
       "      <td>2.0</td>\n",
       "      <td>4.0</td>\n",
       "      <td>Digital Wallet</td>\n",
       "      <td>In-store</td>\n",
       "      <td>2023-06-11</td>\n",
       "    </tr>\n",
       "  </tbody>\n",
       "</table>\n",
       "</div>"
      ],
      "text/plain": [
       "  Transaction ID    Item Quantity Price Per Unit Total Spent  Payment Method  \\\n",
       "0    TXN_1961373  Coffee        2            2.0         4.0     Credit Card   \n",
       "1    TXN_4977031    Cake        4            3.0        12.0            Cash   \n",
       "2    TXN_4271903  Cookie        4            1.0       ERROR     Credit Card   \n",
       "3    TXN_7034554   Salad        2            5.0        10.0         UNKNOWN   \n",
       "4    TXN_3160411  Coffee        2            2.0         4.0  Digital Wallet   \n",
       "\n",
       "   Location Transaction Date  \n",
       "0  Takeaway       2023-09-08  \n",
       "1  In-store       2023-05-16  \n",
       "2  In-store       2023-07-19  \n",
       "3   UNKNOWN       2023-04-27  \n",
       "4  In-store       2023-06-11  "
      ]
     },
     "execution_count": 3,
     "metadata": {},
     "output_type": "execute_result"
    }
   ],
   "source": [
    "df.head()"
   ]
  },
  {
   "cell_type": "code",
   "execution_count": 4,
   "id": "d4df3682",
   "metadata": {},
   "outputs": [
    {
     "name": "stdout",
     "output_type": "stream",
     "text": [
      "<class 'pandas.core.frame.DataFrame'>\n",
      "RangeIndex: 10000 entries, 0 to 9999\n",
      "Data columns (total 8 columns):\n",
      " #   Column            Non-Null Count  Dtype \n",
      "---  ------            --------------  ----- \n",
      " 0   Transaction ID    10000 non-null  object\n",
      " 1   Item              9667 non-null   object\n",
      " 2   Quantity          9862 non-null   object\n",
      " 3   Price Per Unit    9821 non-null   object\n",
      " 4   Total Spent       9827 non-null   object\n",
      " 5   Payment Method    7421 non-null   object\n",
      " 6   Location          6735 non-null   object\n",
      " 7   Transaction Date  9841 non-null   object\n",
      "dtypes: object(8)\n",
      "memory usage: 625.1+ KB\n",
      "None\n"
     ]
    }
   ],
   "source": [
    "print(df.info())"
   ]
  },
  {
   "cell_type": "markdown",
   "id": "ffd4a947",
   "metadata": {},
   "source": [
    "#### First look of the data:\n",
    "- 8 columns, all in object dtype -> Need to change some of them to suitable dtype\n",
    "- There are null values -> Need to check if the values are in the correct NA form\n",
    "- Null values in 'Total Spent' can be filled with a formula 'Quantity'  x 'Price Per Unit'\t\n",
    "- Change column names to a shorter name (Price Per Unit -> Unit Price), (Transaction Date -> Date), ('Payment Method' -> 'Payment Type')\n",
    "\n",
    "Determine which concern to do first"
   ]
  },
  {
   "cell_type": "markdown",
   "id": "4ce62bb3",
   "metadata": {},
   "source": [
    "#### Changing column names"
   ]
  },
  {
   "cell_type": "code",
   "execution_count": 5,
   "id": "5e65ff0f",
   "metadata": {},
   "outputs": [],
   "source": [
    "df.rename(columns={'Price Per Unit': 'Unit Price', 'Transaction Date': 'Date', 'Payment Method': 'Payment Mode'}, inplace=True)\n"
   ]
  },
  {
   "cell_type": "code",
   "execution_count": 6,
   "id": "0418425c",
   "metadata": {},
   "outputs": [
    {
     "data": {
      "text/plain": [
       "Index(['Transaction ID', 'Item', 'Quantity', 'Unit Price', 'Total Spent',\n",
       "       'Payment Mode', 'Location', 'Date'],\n",
       "      dtype='object')"
      ]
     },
     "execution_count": 6,
     "metadata": {},
     "output_type": "execute_result"
    }
   ],
   "source": [
    "df.columns"
   ]
  },
  {
   "cell_type": "markdown",
   "id": "052bc86f",
   "metadata": {},
   "source": [
    "#### Change null values to python friendly null values"
   ]
  },
  {
   "cell_type": "code",
   "execution_count": 9,
   "id": "8f33977b",
   "metadata": {},
   "outputs": [
    {
     "data": {
      "text/plain": [
       "Takeaway    3022\n",
       "In-store    3017\n",
       "ERROR        358\n",
       "UNKNOWN      338\n",
       "Name: Location, dtype: int64"
      ]
     },
     "execution_count": 9,
     "metadata": {},
     "output_type": "execute_result"
    }
   ],
   "source": [
    "# non values: UNKNOWN , ERROR , \n",
    "df['Location'].value_counts()"
   ]
  },
  {
   "cell_type": "code",
   "execution_count": null,
   "id": "5f8ceb1f",
   "metadata": {},
   "outputs": [],
   "source": [
    "df['Location'].isnull().sum()"
   ]
  },
  {
   "cell_type": "markdown",
   "id": "bbbebf6c",
   "metadata": {},
   "source": [
    "#### Change data type\n",
    "- float dtype: Quantity, Price Per Unit,Total Spent\n",
    "- datetime dtype: Date\n",
    "- object dtype: others"
   ]
  },
  {
   "cell_type": "code",
   "execution_count": 7,
   "id": "bcfc6e27",
   "metadata": {},
   "outputs": [],
   "source": [
    "# To change dtype, ensure the non-values are in the correct python Nan/None first\n",
    "\n",
    "dict_replace = {'UNKNOWN':np.nan, 'ERROR':np.nan}\n",
    "\n",
    "for col in df.columns:\n",
    "    df[col] = df[col].replace(dict_replace)\n"
   ]
  },
  {
   "cell_type": "code",
   "execution_count": 8,
   "id": "0467bf53",
   "metadata": {},
   "outputs": [],
   "source": [
    "df['Quantity'] = df['Quantity'].astype('float') \n",
    "df['Unit Price'] = df['Unit Price'].astype('float')\n",
    "df['Total Spent'] = df['Total Spent'].astype('float')\n",
    "df['Date'] = pd.to_datetime(df['Date'])"
   ]
  },
  {
   "cell_type": "code",
   "execution_count": 9,
   "id": "c45094fc",
   "metadata": {},
   "outputs": [
    {
     "name": "stdout",
     "output_type": "stream",
     "text": [
      "<class 'pandas.core.frame.DataFrame'>\n",
      "RangeIndex: 10000 entries, 0 to 9999\n",
      "Data columns (total 8 columns):\n",
      " #   Column          Non-Null Count  Dtype         \n",
      "---  ------          --------------  -----         \n",
      " 0   Transaction ID  10000 non-null  object        \n",
      " 1   Item            9031 non-null   object        \n",
      " 2   Quantity        9521 non-null   float64       \n",
      " 3   Unit Price      9467 non-null   float64       \n",
      " 4   Total Spent     9498 non-null   float64       \n",
      " 5   Payment Mode    6822 non-null   object        \n",
      " 6   Location        6039 non-null   object        \n",
      " 7   Date            9540 non-null   datetime64[ns]\n",
      "dtypes: datetime64[ns](1), float64(3), object(4)\n",
      "memory usage: 625.1+ KB\n"
     ]
    }
   ],
   "source": [
    "df.info()"
   ]
  },
  {
   "cell_type": "code",
   "execution_count": 20,
   "id": "387002b9",
   "metadata": {},
   "outputs": [
    {
     "name": "stdout",
     "output_type": "stream",
     "text": [
      "Each bar shows the number of available values\n"
     ]
    },
    {
     "data": {
      "image/png": "[encoded data removed]",
      "text/plain": [
       "<Figure size 700x400 with 3 Axes>"
      ]
     },
     "metadata": {},
     "output_type": "display_data"
    }
   ],
   "source": [
    "# Checking out missing values in visualization\n",
    "\n",
    "import missingno as msno\n",
    "\n",
    "print(\"Each bar shows the number of available values\")\n",
    "\n",
    "msno.bar(df,figsize=(7,4), fontsize=10, color=\"seagreen\")\n",
    "plt.show()"
   ]
  },
  {
   "cell_type": "code",
   "execution_count": null,
   "id": "96607625",
   "metadata": {},
   "outputs": [],
   "source": [
    "print(\"Missing values with msno.matrix:\")\n",
    "print(\"The sparkline on the right summarizes the general shape of the data completeness \\nand points out the rows with the maximum and minimum nullity in the dataset.\")\n",
    "msno.matrix(df)\n",
    "plt.show()"
   ]
  },
  {
   "cell_type": "code",
   "execution_count": null,
   "id": "0981be33",
   "metadata": {},
   "outputs": [],
   "source": [
    "print(\"Missing values with df.isnull():\")\n",
    "sns.heatmap(df.isnull())\n",
    "plt.show()"
   ]
  },
  {
   "cell_type": "markdown",
   "id": "8d333f11",
   "metadata": {},
   "source": [
    "#### From the three visualizations, we can see that 'Payment Mode' and 'Location' have a lot of missing values. \n",
    "#### This might affect our decision in using these columns for further analysis."
   ]
  },
  {
   "cell_type": "code",
   "execution_count": 12,
   "id": "eeaea392",
   "metadata": {},
   "outputs": [
    {
     "data": {
      "text/plain": [
       "Transaction ID       0\n",
       "Item                 0\n",
       "Date                 0\n",
       "Quantity           398\n",
       "Total Spent        427\n",
       "Unit Price         455\n",
       "Payment Mode      2728\n",
       "Location          3423\n",
       "dtype: int64"
      ]
     },
     "execution_count": 12,
     "metadata": {},
     "output_type": "execute_result"
    }
   ],
   "source": [
    "df.isna().sum().sort_values()"
   ]
  },
  {
   "cell_type": "code",
   "execution_count": 13,
   "id": "ed1c00ed",
   "metadata": {},
   "outputs": [],
   "source": [
    "df.sort_values(by='Date', inplace=True)"
   ]
  },
  {
   "cell_type": "code",
   "execution_count": 11,
   "id": "ad3e7d92",
   "metadata": {},
   "outputs": [],
   "source": [
    "df.dropna(subset=['Date','Item'], inplace=True)"
   ]
  },
  {
   "cell_type": "code",
   "execution_count": 15,
   "id": "8fa5a72e",
   "metadata": {},
   "outputs": [
    {
     "data": {
      "text/html": [
       "<div>\n",
       "<style scoped>\n",
       "    .dataframe tbody tr th:only-of-type {\n",
       "        vertical-align: middle;\n",
       "    }\n",
       "\n",
       "    .dataframe tbody tr th {\n",
       "        vertical-align: top;\n",
       "    }\n",
       "\n",
       "    .dataframe thead th {\n",
       "        text-align: right;\n",
       "    }\n",
       "</style>\n",
       "<table border=\"1\" class=\"dataframe\">\n",
       "  <thead>\n",
       "    <tr style=\"text-align: right;\">\n",
       "      <th></th>\n",
       "      <th>Transaction ID</th>\n",
       "      <th>Item</th>\n",
       "      <th>Quantity</th>\n",
       "      <th>Unit Price</th>\n",
       "      <th>Total Spent</th>\n",
       "      <th>Payment Mode</th>\n",
       "      <th>Location</th>\n",
       "      <th>Date</th>\n",
       "    </tr>\n",
       "  </thead>\n",
       "  <tbody>\n",
       "    <tr>\n",
       "      <th>7306</th>\n",
       "      <td>TXN_6234882</td>\n",
       "      <td>Cookie</td>\n",
       "      <td>4.0</td>\n",
       "      <td>1.0</td>\n",
       "      <td>4.0</td>\n",
       "      <td>Credit Card</td>\n",
       "      <td>NaN</td>\n",
       "      <td>2023-01-01</td>\n",
       "    </tr>\n",
       "    <tr>\n",
       "      <th>8015</th>\n",
       "      <td>TXN_4801947</td>\n",
       "      <td>Juice</td>\n",
       "      <td>1.0</td>\n",
       "      <td>3.0</td>\n",
       "      <td>3.0</td>\n",
       "      <td>Digital Wallet</td>\n",
       "      <td>Takeaway</td>\n",
       "      <td>2023-01-01</td>\n",
       "    </tr>\n",
       "    <tr>\n",
       "      <th>1425</th>\n",
       "      <td>TXN_8842223</td>\n",
       "      <td>Sandwich</td>\n",
       "      <td>5.0</td>\n",
       "      <td>NaN</td>\n",
       "      <td>20.0</td>\n",
       "      <td>Digital Wallet</td>\n",
       "      <td>In-store</td>\n",
       "      <td>2023-01-01</td>\n",
       "    </tr>\n",
       "    <tr>\n",
       "      <th>768</th>\n",
       "      <td>TXN_5728991</td>\n",
       "      <td>Salad</td>\n",
       "      <td>NaN</td>\n",
       "      <td>5.0</td>\n",
       "      <td>10.0</td>\n",
       "      <td>NaN</td>\n",
       "      <td>NaN</td>\n",
       "      <td>2023-01-01</td>\n",
       "    </tr>\n",
       "    <tr>\n",
       "      <th>1806</th>\n",
       "      <td>TXN_2192787</td>\n",
       "      <td>Sandwich</td>\n",
       "      <td>5.0</td>\n",
       "      <td>4.0</td>\n",
       "      <td>20.0</td>\n",
       "      <td>Cash</td>\n",
       "      <td>In-store</td>\n",
       "      <td>2023-01-01</td>\n",
       "    </tr>\n",
       "    <tr>\n",
       "      <th>8885</th>\n",
       "      <td>TXN_1581562</td>\n",
       "      <td>Coffee</td>\n",
       "      <td>2.0</td>\n",
       "      <td>2.0</td>\n",
       "      <td>4.0</td>\n",
       "      <td>Cash</td>\n",
       "      <td>In-store</td>\n",
       "      <td>2023-01-01</td>\n",
       "    </tr>\n",
       "    <tr>\n",
       "      <th>4285</th>\n",
       "      <td>TXN_4292280</td>\n",
       "      <td>Cake</td>\n",
       "      <td>4.0</td>\n",
       "      <td>3.0</td>\n",
       "      <td>12.0</td>\n",
       "      <td>Cash</td>\n",
       "      <td>Takeaway</td>\n",
       "      <td>2023-01-01</td>\n",
       "    </tr>\n",
       "    <tr>\n",
       "      <th>9063</th>\n",
       "      <td>TXN_9161256</td>\n",
       "      <td>Smoothie</td>\n",
       "      <td>2.0</td>\n",
       "      <td>4.0</td>\n",
       "      <td>8.0</td>\n",
       "      <td>Digital Wallet</td>\n",
       "      <td>In-store</td>\n",
       "      <td>2023-01-01</td>\n",
       "    </tr>\n",
       "    <tr>\n",
       "      <th>6583</th>\n",
       "      <td>TXN_3093284</td>\n",
       "      <td>Coffee</td>\n",
       "      <td>4.0</td>\n",
       "      <td>2.0</td>\n",
       "      <td>8.0</td>\n",
       "      <td>Digital Wallet</td>\n",
       "      <td>In-store</td>\n",
       "      <td>2023-01-01</td>\n",
       "    </tr>\n",
       "    <tr>\n",
       "      <th>7309</th>\n",
       "      <td>TXN_6093955</td>\n",
       "      <td>Tea</td>\n",
       "      <td>5.0</td>\n",
       "      <td>1.5</td>\n",
       "      <td>NaN</td>\n",
       "      <td>NaN</td>\n",
       "      <td>Takeaway</td>\n",
       "      <td>2023-01-01</td>\n",
       "    </tr>\n",
       "    <tr>\n",
       "      <th>7152</th>\n",
       "      <td>TXN_6566716</td>\n",
       "      <td>Coffee</td>\n",
       "      <td>NaN</td>\n",
       "      <td>2.0</td>\n",
       "      <td>2.0</td>\n",
       "      <td>Credit Card</td>\n",
       "      <td>NaN</td>\n",
       "      <td>2023-01-01</td>\n",
       "    </tr>\n",
       "    <tr>\n",
       "      <th>1912</th>\n",
       "      <td>TXN_5563675</td>\n",
       "      <td>Tea</td>\n",
       "      <td>3.0</td>\n",
       "      <td>1.5</td>\n",
       "      <td>4.5</td>\n",
       "      <td>Digital Wallet</td>\n",
       "      <td>In-store</td>\n",
       "      <td>2023-01-01</td>\n",
       "    </tr>\n",
       "    <tr>\n",
       "      <th>7285</th>\n",
       "      <td>TXN_1604072</td>\n",
       "      <td>Coffee</td>\n",
       "      <td>2.0</td>\n",
       "      <td>2.0</td>\n",
       "      <td>4.0</td>\n",
       "      <td>NaN</td>\n",
       "      <td>NaN</td>\n",
       "      <td>2023-01-01</td>\n",
       "    </tr>\n",
       "    <tr>\n",
       "      <th>9356</th>\n",
       "      <td>TXN_2104473</td>\n",
       "      <td>Cake</td>\n",
       "      <td>3.0</td>\n",
       "      <td>3.0</td>\n",
       "      <td>9.0</td>\n",
       "      <td>Digital Wallet</td>\n",
       "      <td>Takeaway</td>\n",
       "      <td>2023-01-01</td>\n",
       "    </tr>\n",
       "    <tr>\n",
       "      <th>2726</th>\n",
       "      <td>TXN_2024598</td>\n",
       "      <td>Sandwich</td>\n",
       "      <td>1.0</td>\n",
       "      <td>4.0</td>\n",
       "      <td>4.0</td>\n",
       "      <td>Digital Wallet</td>\n",
       "      <td>In-store</td>\n",
       "      <td>2023-01-01</td>\n",
       "    </tr>\n",
       "    <tr>\n",
       "      <th>840</th>\n",
       "      <td>TXN_8249251</td>\n",
       "      <td>Cake</td>\n",
       "      <td>NaN</td>\n",
       "      <td>3.0</td>\n",
       "      <td>9.0</td>\n",
       "      <td>NaN</td>\n",
       "      <td>In-store</td>\n",
       "      <td>2023-01-01</td>\n",
       "    </tr>\n",
       "    <tr>\n",
       "      <th>1777</th>\n",
       "      <td>TXN_7367474</td>\n",
       "      <td>Juice</td>\n",
       "      <td>5.0</td>\n",
       "      <td>3.0</td>\n",
       "      <td>15.0</td>\n",
       "      <td>Digital Wallet</td>\n",
       "      <td>Takeaway</td>\n",
       "      <td>2023-01-01</td>\n",
       "    </tr>\n",
       "    <tr>\n",
       "      <th>2244</th>\n",
       "      <td>TXN_5358805</td>\n",
       "      <td>Coffee</td>\n",
       "      <td>5.0</td>\n",
       "      <td>2.0</td>\n",
       "      <td>10.0</td>\n",
       "      <td>Digital Wallet</td>\n",
       "      <td>NaN</td>\n",
       "      <td>2023-01-01</td>\n",
       "    </tr>\n",
       "    <tr>\n",
       "      <th>2072</th>\n",
       "      <td>TXN_8308672</td>\n",
       "      <td>Salad</td>\n",
       "      <td>2.0</td>\n",
       "      <td>5.0</td>\n",
       "      <td>10.0</td>\n",
       "      <td>Digital Wallet</td>\n",
       "      <td>Takeaway</td>\n",
       "      <td>2023-01-01</td>\n",
       "    </tr>\n",
       "    <tr>\n",
       "      <th>4162</th>\n",
       "      <td>TXN_4262142</td>\n",
       "      <td>Cake</td>\n",
       "      <td>2.0</td>\n",
       "      <td>3.0</td>\n",
       "      <td>6.0</td>\n",
       "      <td>Cash</td>\n",
       "      <td>Takeaway</td>\n",
       "      <td>2023-01-02</td>\n",
       "    </tr>\n",
       "  </tbody>\n",
       "</table>\n",
       "</div>"
      ],
      "text/plain": [
       "     Transaction ID      Item  Quantity  Unit Price  Total Spent  \\\n",
       "7306    TXN_6234882    Cookie       4.0         1.0          4.0   \n",
       "8015    TXN_4801947     Juice       1.0         3.0          3.0   \n",
       "1425    TXN_8842223  Sandwich       5.0         NaN         20.0   \n",
       "768     TXN_5728991     Salad       NaN         5.0         10.0   \n",
       "1806    TXN_2192787  Sandwich       5.0         4.0         20.0   \n",
       "8885    TXN_1581562    Coffee       2.0         2.0          4.0   \n",
       "4285    TXN_4292280      Cake       4.0         3.0         12.0   \n",
       "9063    TXN_9161256  Smoothie       2.0         4.0          8.0   \n",
       "6583    TXN_3093284    Coffee       4.0         2.0          8.0   \n",
       "7309    TXN_6093955       Tea       5.0         1.5          NaN   \n",
       "7152    TXN_6566716    Coffee       NaN         2.0          2.0   \n",
       "1912    TXN_5563675       Tea       3.0         1.5          4.5   \n",
       "7285    TXN_1604072    Coffee       2.0         2.0          4.0   \n",
       "9356    TXN_2104473      Cake       3.0         3.0          9.0   \n",
       "2726    TXN_2024598  Sandwich       1.0         4.0          4.0   \n",
       "840     TXN_8249251      Cake       NaN         3.0          9.0   \n",
       "1777    TXN_7367474     Juice       5.0         3.0         15.0   \n",
       "2244    TXN_5358805    Coffee       5.0         2.0         10.0   \n",
       "2072    TXN_8308672     Salad       2.0         5.0         10.0   \n",
       "4162    TXN_4262142      Cake       2.0         3.0          6.0   \n",
       "\n",
       "        Payment Mode  Location       Date  \n",
       "7306     Credit Card       NaN 2023-01-01  \n",
       "8015  Digital Wallet  Takeaway 2023-01-01  \n",
       "1425  Digital Wallet  In-store 2023-01-01  \n",
       "768              NaN       NaN 2023-01-01  \n",
       "1806            Cash  In-store 2023-01-01  \n",
       "8885            Cash  In-store 2023-01-01  \n",
       "4285            Cash  Takeaway 2023-01-01  \n",
       "9063  Digital Wallet  In-store 2023-01-01  \n",
       "6583  Digital Wallet  In-store 2023-01-01  \n",
       "7309             NaN  Takeaway 2023-01-01  \n",
       "7152     Credit Card       NaN 2023-01-01  \n",
       "1912  Digital Wallet  In-store 2023-01-01  \n",
       "7285             NaN       NaN 2023-01-01  \n",
       "9356  Digital Wallet  Takeaway 2023-01-01  \n",
       "2726  Digital Wallet  In-store 2023-01-01  \n",
       "840              NaN  In-store 2023-01-01  \n",
       "1777  Digital Wallet  Takeaway 2023-01-01  \n",
       "2244  Digital Wallet       NaN 2023-01-01  \n",
       "2072  Digital Wallet  Takeaway 2023-01-01  \n",
       "4162            Cash  Takeaway 2023-01-02  "
      ]
     },
     "execution_count": 15,
     "metadata": {},
     "output_type": "execute_result"
    }
   ],
   "source": [
    "df.head(20)"
   ]
  },
  {
   "cell_type": "markdown",
   "id": "89951dea",
   "metadata": {},
   "source": [
    "#### Dropping rows with at least 2 data incomplete in the same numerical columns\n",
    "#### For example:\n",
    "- if Quantity AND Unit Price are Nan, the row is dropped\n"
   ]
  },
  {
   "cell_type": "code",
   "execution_count": 16,
   "id": "338415b9",
   "metadata": {},
   "outputs": [
    {
     "data": {
      "text/plain": [
       "(8613, 8)"
      ]
     },
     "execution_count": 16,
     "metadata": {},
     "output_type": "execute_result"
    }
   ],
   "source": [
    "qty_price = df[df['Quantity'].isna() & df['Unit Price'].isna()]\n",
    "qty_spent = df[df['Quantity'].isna() & df['Total Spent'].isna()]\n",
    "price_spent = df[df['Unit Price'].isna() & df['Total Spent'].isna()]\n",
    "df.shape"
   ]
  },
  {
   "cell_type": "markdown",
   "id": "3e8e522e",
   "metadata": {},
   "source": [
    "## Delete the 3 df from the main df.\n",
    "# There must be an easier way"
   ]
  },
  {
   "cell_type": "code",
   "execution_count": 17,
   "id": "85f9704c",
   "metadata": {},
   "outputs": [],
   "source": [
    "df = df.drop(qty_price.index)\n",
    "df = df.drop(qty_spent.index)\n",
    "df = df.drop(price_spent.index)"
   ]
  },
  {
   "cell_type": "code",
   "execution_count": 19,
   "id": "482c0c82",
   "metadata": {},
   "outputs": [
    {
     "name": "stdout",
     "output_type": "stream",
     "text": [
      "<class 'pandas.core.frame.DataFrame'>\n",
      "Int64Index: 8564 entries, 7306 to 2618\n",
      "Data columns (total 8 columns):\n",
      " #   Column          Non-Null Count  Dtype         \n",
      "---  ------          --------------  -----         \n",
      " 0   Transaction ID  8564 non-null   object        \n",
      " 1   Item            8564 non-null   object        \n",
      " 2   Quantity        8199 non-null   float64       \n",
      " 3   Unit Price      8138 non-null   float64       \n",
      " 4   Total Spent     8173 non-null   float64       \n",
      " 5   Payment Mode    5851 non-null   object        \n",
      " 6   Location        5157 non-null   object        \n",
      " 7   Date            8564 non-null   datetime64[ns]\n",
      "dtypes: datetime64[ns](1), float64(3), object(4)\n",
      "memory usage: 602.2+ KB\n"
     ]
    }
   ],
   "source": [
    "df.info()"
   ]
  },
  {
   "cell_type": "markdown",
   "id": "057e4099",
   "metadata": {},
   "source": [
    "## Impute the values. Formula: qty * unit price = Total spent\n",
    "# MAPPING???"
   ]
  },
  {
   "cell_type": "markdown",
   "id": "e2b93a9d",
   "metadata": {},
   "source": [
    "Correlation between numerical columns shows a high correlation between Quantity and Total Spent, and Unit Price and Total Spent"
   ]
  },
  {
   "cell_type": "markdown",
   "id": "19ea52d7",
   "metadata": {},
   "source": [
    "Further viz:\n",
    "- when is the most frequent buy occurs\n",
    "- what food is most popular (can divide quarterly)"
   ]
  },
  {
   "cell_type": "code",
   "execution_count": 21,
   "id": "7044400d",
   "metadata": {},
   "outputs": [
    {
     "data": {
      "image/png": "[encoded data removed]",
      "text/plain": [
       "<Figure size 600x400 with 1 Axes>"
      ]
     },
     "metadata": {},
     "output_type": "display_data"
    }
   ],
   "source": [
    "plt.figure(figsize=(6, 4))\n",
    "ax = sns.countplot(x='Item', data=df)\n",
    "ax.bar_label(ax.containers[0])\n",
    "plt.xticks(rotation=30)\n",
    "plt.show()"
   ]
  },
  {
   "cell_type": "markdown",
   "id": "63e54525",
   "metadata": {},
   "source": [
    "### Can cut according to month\n",
    "### If purchases higher on weekend/weekday\n",
    "Further viz:\n",
    "\n",
    "when is the most frequent buy occurs\n",
    "what food is most popular (can divide quarterly)"
   ]
  },
  {
   "cell_type": "code",
   "execution_count": null,
   "id": "e0a181e2",
   "metadata": {},
   "outputs": [],
   "source": [
    "df.head()"
   ]
  },
  {
   "cell_type": "code",
   "execution_count": null,
   "id": "777bf9dc",
   "metadata": {},
   "outputs": [],
   "source": []
  }
 ],
 "metadata": {
  "kernelspec": {
   "display_name": "Python 3 (ipykernel)",
   "language": "python",
   "name": "python3"
  },
  "language_info": {
   "codemirror_mode": {
    "name": "ipython",
    "version": 3
   },
   "file_extension": ".py",
   "mimetype": "text/x-python",
   "name": "python",
   "nbconvert_exporter": "python",
   "pygments_lexer": "ipython3",
   "version": "3.8.17"
  }
 },
 "nbformat": 4,
 "nbformat_minor": 5
}
